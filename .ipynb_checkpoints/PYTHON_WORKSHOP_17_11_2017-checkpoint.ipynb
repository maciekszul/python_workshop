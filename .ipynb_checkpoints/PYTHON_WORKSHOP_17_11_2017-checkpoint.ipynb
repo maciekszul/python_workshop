{
 "cells": [
  {
   "cell_type": "markdown",
   "metadata": {
    "slideshow": {
     "slide_type": "slide"
    }
   },
   "source": [
    "<center>\n",
    "<h1>PYTHON WORKSHOP\n",
    "<h3>CUBRIC, 17/11/2017\n",
    "</center>"
   ]
  },
  {
   "cell_type": "markdown",
   "metadata": {
    "slideshow": {
     "slide_type": "slide"
    }
   },
   "source": [
    "\n",
    "#### WHERE TO START?\n",
    "<hr>\n",
    "* For 75% of applications, it doesn't matter whether it's Linux, Mac or Windows\n",
    "* You can install 'bare' python interpreter, but there are better solutions like package managers\n",
    "    - CANOPY by Enthought (https://www.enthought.com/product/canopy/)\n",
    "    - Homebrew for MacOS  (general package manager!!! so good for installing everything, bit cumbersome for python)\n",
    "    - WinPython (weird)\n",
    "    - **ANACONDA** (https://anaconda.org/) our weapon of choice for today"
   ]
  },
  {
   "cell_type": "markdown",
   "metadata": {
    "slideshow": {
     "slide_type": "slide"
    }
   },
   "source": [
    "\n",
    "#### WHY ANACONDA?\n",
    "<hr>\n",
    "* light\n",
    "* easy to manage\n",
    "* nice features (e.g. cleaning!)\n",
    "* widely used"
   ]
  },
  {
   "cell_type": "markdown",
   "metadata": {
    "slideshow": {
     "slide_type": "slide"
    }
   },
   "source": [
    "\n",
    "#### INSTALLING ANACONDA\n",
    "<hr>\n",
    "* download appropriate version of Python 3.x from: https://conda.io/miniconda.html\n",
    "* install it: https://conda.io/docs/user-guide/install/index.html\n",
    "* Windows:\n",
    "    - double-click ```.exe``` file\n",
    "    - open ```command line``` and type ```conda list``` to test your installation\n",
    "* MacOS/Linux:\n",
    "    - open terminal\n",
    "    - ```cd``` your way to the ```Download``` folder (use ```Tab``` for autocompletion)\n",
    "    - type ```bash Miniconda3-latest-Linux-x86_64.sh``` and press ```Enter```\n",
    "    - close, and reopen the terminal, type ```conda list``` to test your installation\n",
    "* use default settings"
   ]
  },
  {
   "cell_type": "markdown",
   "metadata": {},
   "source": [
    "\n",
    "#### INSTALLING USEFUL PACKAGES\n",
    "<hr>\n",
    "* two most popular ways:\n",
    "    - terminal command: ```conda install <package>``` (preferred as we are using conda environment)\n",
    "    - terminal command: ```pip install <package>```\n",
    "    - other ways described in package documentation (git, manual, etc.)\n",
    "\n",
    "* packages we are going to be using today:\n",
    "    - jupyter\n",
    "    - scipy\n",
    "    - numpy\n",
    "    - matplotlib\n",
    "    - seaborn\n",
    "    - pandas\n",
    "\n",
    "* of possible interest\n",
    "    - joblib\n",
    "    - scikit-learn\n",
    "\n",
    "\n",
    "* let's install them using ```conda install <package>```"
   ]
  },
  {
   "cell_type": "markdown",
   "metadata": {},
   "source": [
    "\n",
    "##### IDE's\n",
    "<hr>\n",
    "* iPython - powerful interpreter\n",
    "* Jupyter Notebook\n",
    "* Spyder - closest to Matlab IDE\n",
    "* PyCharm - all the bells and whistles\n",
    "* Rodeo - for Rstudio afficionados\n",
    "\n",
    "#### EDITORS\n",
    "<hr>\n",
    "* syntax highlighting and indentation\n",
    "* Sublime - easy to download and install (https://www.sublimetext.com)\n",
    "* Atom\n",
    "* Notepad++"
   ]
  },
  {
   "cell_type": "markdown",
   "metadata": {},
   "source": [
    "\n",
    "#### CODING STYLE / PEP 8\n",
    "<hr>\n",
    "* helps making code readable for yourself an others\n",
    "\n",
    "* 4 space indentations (no Tabs)\n",
    "* Wrap lines before 80 characters\n",
    "* use blank lines to separate classes, functions, pieces of code\n",
    "* put comments in separate lines if possible\n",
    "* use docstrings\n",
    "* preferably use ```lower_case_with_underscores``` rather than ```CamelCase```\n",
    "\n",
    "* PEP8 https://www.python.org/dev/peps/pep-0008/"
   ]
  },
  {
   "cell_type": "markdown",
   "metadata": {},
   "source": [
    "\n",
    "#### LET'S START PLAYING"
   ]
  }
 ],
 "metadata": {
  "kernelspec": {
   "display_name": "Python 2",
   "language": "python",
   "name": "python2"
  },
  "language_info": {
   "codemirror_mode": {
    "name": "ipython",
    "version": 2
   },
   "file_extension": ".py",
   "mimetype": "text/x-python",
   "name": "python",
   "nbconvert_exporter": "python",
   "pygments_lexer": "ipython2",
   "version": "2.7.12"
  }
 },
 "nbformat": 4,
 "nbformat_minor": 2
}

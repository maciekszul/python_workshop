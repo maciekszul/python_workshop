{
 "cells": [
  {
   "cell_type": "markdown",
   "metadata": {
    "slideshow": {
     "slide_type": "slide"
    }
   },
   "source": [
    "<center>\n",
    "<h1>PYTHON WORKSHOP\n",
    "<h3>CUBRIC, 17/11/2017\n",
    "</center>"
   ]
  },
  {
   "cell_type": "markdown",
   "metadata": {
    "slideshow": {
     "slide_type": "slide"
    }
   },
   "source": [
    "\n",
    "#### WHERE TO START?\n",
    "<hr>\n",
    "* For 75% of applications, it doesn't matter whether it's Linux, Mac or Windows\n",
    "* You can install 'bare' python interpreter, but there are better solutions like package managers\n",
    "    - CANOPY by Enthought (https://www.enthought.com/product/canopy/)\n",
    "    - Homebrew for MacOS  (general package manager!!! so good for installing everything, bit cumbersome for python)\n",
    "    - WinPython (weird)\n",
    "    - **ANACONDA** (https://anaconda.org/) our weapon of choice for today"
   ]
  },
  {
   "cell_type": "markdown",
   "metadata": {
    "slideshow": {
     "slide_type": "slide"
    }
   },
   "source": [
    "\n",
    "#### WHY ANACONDA?\n",
    "<hr>\n",
    "* light\n",
    "* easy to manage\n",
    "* nice features (e.g. cleaning!)\n",
    "* widely used"
   ]
  },
  {
   "cell_type": "markdown",
   "metadata": {
    "slideshow": {
     "slide_type": "slide"
    }
   },
   "source": [
    "\n",
    "#### INSTALLING ANACONDA\n",
    "<hr>\n",
    "* download appropriate version of Python 3.x from: https://conda.io/miniconda.html\n",
    "* install it: https://conda.io/docs/user-guide/install/index.html\n",
    "* Windows:\n",
    "    - double-click ```.exe``` file\n",
    "    - open ```command line``` and type ```conda list``` to test your installation\n",
    "* MacOS/Linux:\n",
    "    - open terminal\n",
    "    - ```cd``` your way to the ```Download``` folder (use ```Tab``` for autocompletion)\n",
    "    - type ```bash Miniconda3-latest-Linux-x86_64.sh``` and press ```Enter```\n",
    "    - close, and reopen the terminal, type ```conda list``` to test your installation\n",
    "* use default settings"
   ]
  },
  {
   "cell_type": "markdown",
   "metadata": {
    "slideshow": {
     "slide_type": "slide"
    }
   },
   "source": [
    "\n",
    "#### INSTALLING USEFUL PACKAGES\n",
    "<hr>\n",
    "* two most popular ways:\n",
    "    - terminal command: ```conda install <package>``` (preferred as we are using conda environment)\n",
    "    - terminal command: ```pip install <package>```\n",
    "    - other ways described in package documentation (git, manual, etc.)\n",
    "\n",
    "* packages we are going to be using today:\n",
    "    - jupyter\n",
    "    - scipy\n",
    "    - numpy\n",
    "    - matplotlib\n",
    "    - seaborn\n",
    "    - pandas\n",
    "\n",
    "* of possible interest\n",
    "    - joblib\n",
    "    - scikit-learn\n",
    "\n",
    "\n",
    "* let's install them using ```conda install <package>```"
   ]
  },
  {
   "cell_type": "markdown",
   "metadata": {
    "slideshow": {
     "slide_type": "slide"
    }
   },
   "source": [
    "\n",
    "##### IDE's\n",
    "<hr>\n",
    "* iPython - powerful interpreter\n",
    "* Jupyter Notebook\n",
    "* Spyder - closest to Matlab IDE\n",
    "* PyCharm - all the bells and whistles\n",
    "* Rodeo - for Rstudio afficionados\n",
    "\n",
    "#### EDITORS\n",
    "<hr>\n",
    "* syntax highlighting and indentation\n",
    "* Sublime - easy to download and install (https://www.sublimetext.com)\n",
    "* Atom\n",
    "* Notepad++"
   ]
  },
  {
   "cell_type": "markdown",
   "metadata": {
    "slideshow": {
     "slide_type": "slide"
    }
   },
   "source": [
    "\n",
    "#### CODING STYLE / PEP 8\n",
    "<hr>\n",
    "* helps making code readable for yourself an others\n",
    "\n",
    "* 4 space indentations (no Tabs)\n",
    "* Wrap lines before 80 characters\n",
    "* use blank lines to separate classes, functions, pieces of code\n",
    "* put comments in separate lines if possible\n",
    "* use docstrings\n",
    "* preferably use ```lower_case_with_underscores``` rather than ```CamelCase```\n",
    "\n",
    "* PEP8 https://www.python.org/dev/peps/pep-0008/"
   ]
  },
  {
   "cell_type": "markdown",
   "metadata": {},
   "source": [
    "#### iPython\n",
    "<hr>\n",
    "\n",
    "* type ```ipython``` in your terminal\n",
    "* documentation/tutorial ```%magic``` and http://ipython.readthedocs.io/en/stable/interactive/magics.html\n",
    "* quick reference ```%quickref```\n",
    "* some useful magics:\n",
    "    - ```%run {filename}```\n",
    "    - ```%reset```\n",
    "    - ```%cd``` with ```Tab```\n",
    "    - ```%debug```\n",
    "    - ```%timeit```\n",
    "    - ```%matplotlib```"
   ]
  },
  {
   "cell_type": "markdown",
   "metadata": {
    "slideshow": {
     "slide_type": "slide"
    }
   },
   "source": [
    "\n",
    "#### BASIC DATA STRUCTURES\n",
    "<hr>\n",
    "More detailed documentation: https://docs.python.org/3/tutorial/datastructures.html\n",
    "* Lists\n",
    "* Tuples\n",
    "* Strings\n",
    "* Sets\n",
    "* Dictionaries\n",
    "* Looping\n",
    "* Functions"
   ]
  },
  {
   "cell_type": "markdown",
   "metadata": {
    "slideshow": {
     "slide_type": "slide"
    }
   },
   "source": [
    "\n",
    "#### BASIC LIBRARIES (batteries included)\n",
    "<hr>\n",
    "* ```import os```\n",
    "* ```import shutil```\n",
    "* ```import sys```\n",
    "* ```import subprocess```\n",
    "* ```import math```\n",
    "* ```import smtplib```\n",
    "* ```import zlib```\n",
    "* ```import sqlite3```\n"
   ]
  },
  {
   "cell_type": "markdown",
   "metadata": {
    "slideshow": {
     "slide_type": "slide"
    }
   },
   "source": [
    "\n",
    "#### OTHER LIBRARIES (installed earlier)\n",
    "<hr>\n",
    "* ```import numpy as np``` more: http://www.scipy-lectures.org/intro/numpy/index.html\n",
    "* ```import matplotlib.pylab as plt``` \n",
    "* ```import pandas as pd``` more: https://pandas.pydata.org/pandas-docs/stable/10min.html\n",
    "* ```import seaborn as sns``` more: http://seaborn.pydata.org/tutorial.html"
   ]
  },
  {
   "cell_type": "markdown",
   "metadata": {
    "slideshow": {
     "slide_type": "slide"
    }
   },
   "source": [
    "\n",
    "#### Numpy/scipy\n",
    "<hr>\n",
    "\n",
    "* fast numerical operations\n",
    "* arrays\n",
    "* slicing and selecting"
   ]
  },
  {
   "cell_type": "code",
   "execution_count": 15,
   "metadata": {},
   "outputs": [],
   "source": [
    "import numpy as np\n",
    "\n",
    "x = np.linspace(-5,5, num=100)\n",
    "y = np.sin(x)\n"
   ]
  },
  {
   "cell_type": "markdown",
   "metadata": {
    "slideshow": {
     "slide_type": "slide"
    }
   },
   "source": [
    "\n",
    "#### Matplotlib\n",
    "<hr>\n",
    "\n",
    "* 'basic' plotting\n"
   ]
  },
  {
   "cell_type": "code",
   "execution_count": 23,
   "metadata": {},
   "outputs": [
    {
     "data": {
      "image/png": "[encoded data removed]",
      "text/plain": [
       "<matplotlib.figure.Figure at 0x7f67498589d0>"
      ]
     },
     "metadata": {},
     "output_type": "display_data"
    }
   ],
   "source": [
    "import matplotlib.pylab as plt\n",
    "\n",
    "fig = plt.figure(figsize=(10,6))\n",
    "ax = fig.add_subplot(111)\n",
    "ax.plot(x,y, alpha=1, lw=2, color='red', label='line')\n",
    "ax.axhline(0, lw=0.5, ls='-', c='black', alpha=0.5)\n",
    "ax.axvline(0, lw=0.5, ls='-', c='black', alpha=0.5)\n",
    "ax.legend(fontsize='large', loc=3)\n",
    "low, up = ax.get_ylim()\n",
    "ax.set_ylim((low - 0.2, up + 0.2))\n",
    "plt.xlabel('X axis')\n",
    "plt.ylabel('Y axis')\n",
    "plt.savefig('figure1.png', format='png')\n",
    "plt.suptitle('Magnificent Plot')\n",
    "plt.show()"
   ]
  },
  {
   "cell_type": "markdown",
   "metadata": {
    "slideshow": {
     "slide_type": "slide"
    }
   },
   "source": [
    "\n",
    "#### Jupyter Notebook\n",
    "<hr>\n",
    "* open terminal\n",
    "* type ```jupyter notebook```\n",
    "* if you want to force certain browser type ```jupyter notebook --browser firefox```"
   ]
  },
  {
   "cell_type": "markdown",
   "metadata": {
    "slideshow": {
     "slide_type": "slide"
    }
   },
   "source": [
    "\n",
    "#### Pandas\n",
    "<hr>\n",
    "RT data from OSF in csv format https://osf.io/jzsvs/download\n",
    "\n",
    "* reading file\n",
    "* getting to know your data\n",
    "* grouping, selecting etc.\n",
    "* modifying the data"
   ]
  },
  {
   "cell_type": "markdown",
   "metadata": {
    "slideshow": {
     "slide_type": "slide"
    }
   },
   "source": [
    "\n",
    "#### Seaborn\n",
    "<hr>\n",
    "\n",
    "* plotting your data"
   ]
  },
  {
   "cell_type": "markdown",
   "metadata": {},
   "source": [
    "\n",
    "#### OTHER USEFUL LIBRARIES\n",
    "<hr>\n",
    "\n",
    "* conda friendly psychopy installation https://anaconda.org/CogSci/psychopy requires 2.7 env for now"
   ]
  }
 ],
 "metadata": {
  "celltoolbar": "Raw Cell Format",
  "kernelspec": {
   "display_name": "Python 2",
   "language": "python",
   "name": "python2"
  },
  "language_info": {
   "codemirror_mode": {
    "name": "ipython",
    "version": 2
   },
   "file_extension": ".py",
   "mimetype": "text/x-python",
   "name": "python",
   "nbconvert_exporter": "python",
   "pygments_lexer": "ipython2",
   "version": "2.7.12"
  }
 },
 "nbformat": 4,
 "nbformat_minor": 2
}

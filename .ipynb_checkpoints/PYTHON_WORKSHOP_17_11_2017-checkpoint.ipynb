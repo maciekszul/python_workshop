{
 "cells": [
  {
   "cell_type": "markdown",
   "metadata": {
    "slideshow": {
     "slide_type": "slide"
    }
   },
   "source": [
    "<center>\n",
    "<h1>PYTHON WORKSHOP\n",
    "<h3>CUBRIC, 17/11/2017\n",
    "</center>"
   ]
  },
  {
   "cell_type": "markdown",
   "metadata": {
    "slideshow": {
     "slide_type": "slide"
    }
   },
   "source": [
    "#### WHERE TO START?\n",
    "<hr>\n",
    "* For 75% of applications, it doesn't matter whether it's Linux, Mac or Windows\n",
    "* You can install 'bare' python interpreter, but there are better solutions like package managers\n",
    "    - CANOPY by Enthought (https://www.enthought.com/product/canopy/)\n",
    "    - Homebrew for MacOS  (general package manager!!! so good for installing everything, bit cumbersome for python)\n",
    "    - **ANACONDA** (https://anaconda.org/) our weapon of choice for today"
   ]
  },
  {
   "cell_type": "markdown",
   "metadata": {
    "slideshow": {
     "slide_type": "slide"
    }
   },
   "source": [
    "#### WHY ANACONDA?\n",
    "<hr>\n",
    "* light\n",
    "* easy to manage\n",
    "* nice features (e.g. cleaning!)\n",
    "* widely used"
   ]
  },
  {
   "cell_type": "markdown",
   "metadata": {
    "slideshow": {
     "slide_type": "slide"
    }
   },
   "source": [
    "### INSTALLING ANACONDA\n",
    "<hr>\n",
    "* download appropriate version from: https://conda.io/miniconda.html\n",
    "* install it: https://conda.io/docs/user-guide/install/index.html\n",
    "* Windows:\n",
    "    - double-click ```.exe``` file\n",
    "    - open ```command line``` and type ```conda list``` to test your installation\n",
    "* MacOS/Linux:\n",
    "    - open terminal\n",
    "    - ```cd``` your way to the ```Download``` folder (use ```Tab``` for autocompletion)\n",
    "    - type ```bash Miniconda3-latest-Linux-x86_64.sh``` and press ```Enter```\n",
    "* use default settings"
   ]
  },
  {
   "cell_type": "code",
   "execution_count": null,
   "metadata": {},
   "outputs": [],
   "source": []
  }
 ],
 "metadata": {
  "kernelspec": {
   "display_name": "Python 2",
   "language": "python",
   "name": "python2"
  },
  "language_info": {
   "codemirror_mode": {
    "name": "ipython",
    "version": 2
   },
   "file_extension": ".py",
   "mimetype": "text/x-python",
   "name": "python",
   "nbconvert_exporter": "python",
   "pygments_lexer": "ipython2",
   "version": "2.7.12"
  }
 },
 "nbformat": 4,
 "nbformat_minor": 2
}
